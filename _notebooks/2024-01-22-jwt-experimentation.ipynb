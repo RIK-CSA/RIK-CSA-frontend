{
  "nbformat": 4,
  "nbformat_minor": 0,
  "metadata": {
    "colab": {
      "provenance": []
    },
    "kernelspec": {
      "name": "java",
      "display_name": "Java"
    },
    "language_info": {
      "name": "java"
    }
  },
  "cells": [
    {
      "cell_type": "markdown",
      "source": [
        "title: JWT Experimentation\n",
        "description: by Raunak Mondal\n",
        "week: 16 categories: [Java, Tri 2]\n",
        "type: plans\n",
        "tags: [Notebook, Java, Collections, Lesson]\n",
        "\n"
      ],
      "metadata": {
        "id": "8rlZ_wh8EV74"
      }
    },
    {
      "cell_type": "markdown",
      "source": [
        "Basic example of what I wanted to implement in our project (some of this comes from the Student JWT Lessons)"
      ],
      "metadata": {
        "id": "aWi9dep-Durp"
      }
    },
    {
      "cell_type": "code",
      "execution_count": 2,
      "metadata": {
        "colab": {
          "base_uri": "https://localhost:8080/"
        },
        "id": "3uyJwhGjQ_8H",
        "outputId": "4f52e41a-6adb-433a-a22f-efd0a48247d2"
      },
      "outputs": [
        {
          "output_type": "stream",
          "name": "stdout",
          "text": [
            "Decoded Token Data: {username=raunakmondal07, iat=1672464000, exp=1672550400}\n"
          ]
        }
      ],
      "source": [
        "import io.jsonwebtoken.Claims;\n",
        "import io.jsonwebtoken.ExpiredJwtException;\n",
        "import io.jsonwebtoken.Jws;\n",
        "import io.jsonwebtoken.Jwts;\n",
        "import io.jsonwebtoken.SignatureAlgorithm;\n",
        "\n",
        "import java.util.Date;\n",
        "import java.util.HashMap;\n",
        "import java.util.Map;\n",
        "\n",
        "public class JwtExample {\n",
        "\n",
        "\n",
        "    private static final String SECRET_KEY = \"raunakmondal1579\";\n",
        "\n",
        "    // Function to generate a JWT token\n",
        "    public static String generateToken(String username) {\n",
        "        Map<String, Object> claims = new HashMap<>();\n",
        "        claims.put(\"username\", username);\n",
        "\n",
        "        return Jwts.builder()\n",
        "                .setClaims(claims)\n",
        "                .setIssuedAt(new Date())\n",
        "                .setExpiration(new Date(System.currentTimeMillis() + 86400000))  // Token expires in 24 hours\n",
        "                .signWith(SignatureAlgorithm.HS256, SECRET_KEY)\n",
        "                .compact();\n",
        "    }\n",
        "\n",
        "    // Function to verify and decode a JWT token\n",
        "    public static void decodeToken(String token) {\n",
        "        try {\n",
        "            Jws<Claims> claimsJws = Jwts.parser().setSigningKey(SECRET_KEY).parseClaimsJws(token);\n",
        "            Claims body = claimsJws.getBody();\n",
        "            System.out.println(\"Decoded Token Data: \" + body);\n",
        "        } catch (ExpiredJwtException e) {\n",
        "            System.out.println(\"Token has expired.\");\n",
        "        } catch (Exception e) {\n",
        "            System.out.println(\"Invalid token.\");\n",
        "        }\n",
        "    }\n",
        "\n",
        "    public static void main(String[] args) {\n",
        "        // Example usage\n",
        "        String username = \"raunakmondal07\";\n",
        "        String password = \"rik-csa\";\n",
        "\n",
        "        // Perform login to get JWT token\n",
        "        String jwtToken = generateToken(username);\n",
        "\n",
        "        // Example: Decode and print the contents of the JWT token\n",
        "        decodeToken(jwtToken);\n",
        "    }\n",
        "}\n"
      ]
    }
  ]
}
