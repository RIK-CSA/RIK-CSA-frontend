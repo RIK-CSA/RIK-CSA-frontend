{
  "nbformat": 4,
  "nbformat_minor": 0,
  "metadata": {
    "colab": {
      "provenance": []
    },
    "kernelspec": {
      "name": "python3",
      "display_name": "Python 3"
    },
    "language_info": {
      "name": "python"
    }
  },
  "cells": [
    {
      "cell_type": "markdown",
      "source": [
        "title: JWT Experimentation\n",
        "description: by Raunak Mondal\n",
        "week: 16 categories: [Java, Tri 2]\n",
        "type: plans\n",
        "tags: [Notebook, Java, Collections, Lesson]\n",
        "\n"
      ],
      "metadata": {
        "id": "8rlZ_wh8EV74"
      }
    },
    {
      "cell_type": "markdown",
      "source": [
        "Basic example of what I wanted to implement in our project (some of this comes from the Student JWT Lessons)"
      ],
      "metadata": {
        "id": "aWi9dep-Durp"
      }
    },
    {
      "cell_type": "code",
      "execution_count": 1,
      "metadata": {
        "colab": {
          "base_uri": "https://localhost:8080/",
          "height": 143
        },
        "id": "3uyJwhGjQ_8H",
        "outputId": "d2d49faf-f0c8-44e4-9d03-4613640213c1"
      },
      "outputs": [
        {
          "output_type": "error",
          "ename": "SyntaxError",
          "evalue": "invalid syntax (<ipython-input-1-c94db9c1cfaa>, line 11)",
          "traceback": [
            "\u001b[0;36m  File \u001b[0;32m\"<ipython-input-1-c94db9c1cfaa>\"\u001b[0;36m, line \u001b[0;32m11\u001b[0m\n\u001b[0;31m    public class JwtExample {\u001b[0m\n\u001b[0m           ^\u001b[0m\n\u001b[0;31mSyntaxError\u001b[0m\u001b[0;31m:\u001b[0m invalid syntax\n"
          ]
        }
      ],
      "source": [
        "import io.jsonwebtoken.Claims;\n",
        "import io.jsonwebtoken.ExpiredJwtException;\n",
        "import io.jsonwebtoken.Jws;\n",
        "import io.jsonwebtoken.Jwts;\n",
        "import io.jsonwebtoken.SignatureAlgorithm;\n",
        "\n",
        "import java.util.Date;\n",
        "import java.util.HashMap;\n",
        "import java.util.Map;\n",
        "\n",
        "public class JwtExample {\n",
        "\n",
        "\n",
        "    private static final String SECRET_KEY = \"raunakmondal1579\";\n",
        "\n",
        "    // Function to generate a JWT token\n",
        "    public static String generateToken(String username) {\n",
        "        Map<String, Object> claims = new HashMap<>();\n",
        "        claims.put(\"username\", username);\n",
        "\n",
        "        return Jwts.builder()\n",
        "                .setClaims(claims)\n",
        "                .setIssuedAt(new Date())\n",
        "                .setExpiration(new Date(System.currentTimeMillis() + 86400000))  // Token expires in 24 hours\n",
        "                .signWith(SignatureAlgorithm.HS256, SECRET_KEY)\n",
        "                .compact();\n",
        "    }\n",
        "\n",
        "    // Function to verify and decode a JWT token\n",
        "    public static void decodeToken(String token) {\n",
        "        try {\n",
        "            Jws<Claims> claimsJws = Jwts.parser().setSigningKey(SECRET_KEY).parseClaimsJws(token);\n",
        "            Claims body = claimsJws.getBody();\n",
        "            System.out.println(\"Decoded Token Data: \" + body);\n",
        "        } catch (ExpiredJwtException e) {\n",
        "            System.out.println(\"Token has expired.\");\n",
        "        } catch (Exception e) {\n",
        "            System.out.println(\"Invalid token.\");\n",
        "        }\n",
        "    }\n",
        "\n",
        "    public static void main(String[] args) {\n",
        "        // Example usage\n",
        "        String username = \"raunakmondal07\";\n",
        "        String password = \"rik-csa\";\n",
        "\n",
        "        // Perform login to get JWT token\n",
        "        String jwtToken = generateToken(username);\n",
        "\n",
        "        // Example: Decode and print the contents of the JWT token\n",
        "        decodeToken(jwtToken);\n",
        "    }\n",
        "}\n"
      ]
    }
  ]
}